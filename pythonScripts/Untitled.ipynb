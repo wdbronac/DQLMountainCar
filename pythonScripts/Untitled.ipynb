{
 "cells": [
  {
   "cell_type": "code",
   "execution_count": 1,
   "metadata": {
    "collapsed": false
   },
   "outputs": [
    {
     "name": "stdout",
     "output_type": "stream",
     "text": [
      "\u001b[H\u001b[2J"
     ]
    }
   ],
   "source": [
    "clear all"
   ]
  },
  {
   "cell_type": "code",
   "execution_count": 2,
   "metadata": {
    "collapsed": true
   },
   "outputs": [],
   "source": [
    "import pandas as pd\n",
    "import numpy as np\n",
    "import pylab as plt"
   ]
  },
  {
   "cell_type": "code",
   "execution_count": 3,
   "metadata": {
    "collapsed": true
   },
   "outputs": [],
   "source": [
    "import os\n",
    "import subprocess"
   ]
  },
  {
   "cell_type": "code",
   "execution_count": 4,
   "metadata": {
    "collapsed": true
   },
   "outputs": [],
   "source": [
    "import matplotlib.image as mpimg"
   ]
  },
  {
   "cell_type": "code",
   "execution_count": 5,
   "metadata": {
    "collapsed": false
   },
   "outputs": [],
   "source": [
    "import plot_tools as PT"
   ]
  },
  {
   "cell_type": "code",
   "execution_count": 6,
   "metadata": {
    "collapsed": true
   },
   "outputs": [],
   "source": [
    "dataframe = pd.read_csv('../images/dataset.csv')"
   ]
  },
  {
   "cell_type": "code",
   "execution_count": 7,
   "metadata": {
    "collapsed": false
   },
   "outputs": [
    {
     "data": {
      "text/html": [
       "<div>\n",
       "<table border=\"1\" class=\"dataframe\">\n",
       "  <thead>\n",
       "    <tr style=\"text-align: right;\">\n",
       "      <th></th>\n",
       "      <th>state1</th>\n",
       "      <th>state2</th>\n",
       "      <th>action</th>\n",
       "      <th>next_state1</th>\n",
       "      <th>next_state2</th>\n",
       "    </tr>\n",
       "  </thead>\n",
       "  <tbody>\n",
       "    <tr>\n",
       "      <th>0</th>\n",
       "      <td>0.457426</td>\n",
       "      <td>0.060419</td>\n",
       "      <td>1.0</td>\n",
       "      <td>0.500000</td>\n",
       "      <td>0.059926</td>\n",
       "    </tr>\n",
       "    <tr>\n",
       "      <th>1</th>\n",
       "      <td>0.393594</td>\n",
       "      <td>0.029372</td>\n",
       "      <td>1.0</td>\n",
       "      <td>0.422015</td>\n",
       "      <td>0.028422</td>\n",
       "    </tr>\n",
       "    <tr>\n",
       "      <th>2</th>\n",
       "      <td>-0.784815</td>\n",
       "      <td>0.051213</td>\n",
       "      <td>1.0</td>\n",
       "      <td>-0.731837</td>\n",
       "      <td>0.052978</td>\n",
       "    </tr>\n",
       "    <tr>\n",
       "      <th>3</th>\n",
       "      <td>-1.050700</td>\n",
       "      <td>0.041745</td>\n",
       "      <td>1.0</td>\n",
       "      <td>-1.006455</td>\n",
       "      <td>0.044245</td>\n",
       "    </tr>\n",
       "    <tr>\n",
       "      <th>4</th>\n",
       "      <td>-0.007822</td>\n",
       "      <td>0.065768</td>\n",
       "      <td>1.0</td>\n",
       "      <td>0.055446</td>\n",
       "      <td>0.063269</td>\n",
       "    </tr>\n",
       "    <tr>\n",
       "      <th>5</th>\n",
       "      <td>0.163230</td>\n",
       "      <td>-0.065950</td>\n",
       "      <td>0.0</td>\n",
       "      <td>0.094074</td>\n",
       "      <td>-0.069156</td>\n",
       "    </tr>\n",
       "    <tr>\n",
       "      <th>6</th>\n",
       "      <td>-1.141144</td>\n",
       "      <td>0.017598</td>\n",
       "      <td>0.0</td>\n",
       "      <td>-1.122145</td>\n",
       "      <td>0.018999</td>\n",
       "    </tr>\n",
       "    <tr>\n",
       "      <th>7</th>\n",
       "      <td>-0.213980</td>\n",
       "      <td>0.054199</td>\n",
       "      <td>2.0</td>\n",
       "      <td>-0.160784</td>\n",
       "      <td>0.053197</td>\n",
       "    </tr>\n",
       "    <tr>\n",
       "      <th>8</th>\n",
       "      <td>0.077077</td>\n",
       "      <td>-0.011843</td>\n",
       "      <td>2.0</td>\n",
       "      <td>0.063801</td>\n",
       "      <td>-0.013276</td>\n",
       "    </tr>\n",
       "    <tr>\n",
       "      <th>9</th>\n",
       "      <td>0.325468</td>\n",
       "      <td>-0.032252</td>\n",
       "      <td>0.0</td>\n",
       "      <td>0.290816</td>\n",
       "      <td>-0.034652</td>\n",
       "    </tr>\n",
       "    <tr>\n",
       "      <th>10</th>\n",
       "      <td>-0.844292</td>\n",
       "      <td>0.045677</td>\n",
       "      <td>0.0</td>\n",
       "      <td>-0.797563</td>\n",
       "      <td>0.046728</td>\n",
       "    </tr>\n",
       "    <tr>\n",
       "      <th>11</th>\n",
       "      <td>-1.133525</td>\n",
       "      <td>0.013025</td>\n",
       "      <td>2.0</td>\n",
       "      <td>-1.117083</td>\n",
       "      <td>0.016441</td>\n",
       "    </tr>\n",
       "    <tr>\n",
       "      <th>12</th>\n",
       "      <td>-0.223816</td>\n",
       "      <td>0.012175</td>\n",
       "      <td>0.0</td>\n",
       "      <td>-0.214598</td>\n",
       "      <td>0.009218</td>\n",
       "    </tr>\n",
       "    <tr>\n",
       "      <th>13</th>\n",
       "      <td>0.165014</td>\n",
       "      <td>-0.007018</td>\n",
       "      <td>0.0</td>\n",
       "      <td>0.154796</td>\n",
       "      <td>-0.010218</td>\n",
       "    </tr>\n",
       "    <tr>\n",
       "      <th>14</th>\n",
       "      <td>-0.246240</td>\n",
       "      <td>-0.018234</td>\n",
       "      <td>2.0</td>\n",
       "      <td>-0.265323</td>\n",
       "      <td>-0.019083</td>\n",
       "    </tr>\n",
       "    <tr>\n",
       "      <th>15</th>\n",
       "      <td>0.364242</td>\n",
       "      <td>0.012248</td>\n",
       "      <td>2.0</td>\n",
       "      <td>0.376340</td>\n",
       "      <td>0.012098</td>\n",
       "    </tr>\n",
       "    <tr>\n",
       "      <th>16</th>\n",
       "      <td>-0.074244</td>\n",
       "      <td>0.009841</td>\n",
       "      <td>1.0</td>\n",
       "      <td>-0.066842</td>\n",
       "      <td>0.007402</td>\n",
       "    </tr>\n",
       "    <tr>\n",
       "      <th>17</th>\n",
       "      <td>-0.847240</td>\n",
       "      <td>-0.030278</td>\n",
       "      <td>1.0</td>\n",
       "      <td>-0.875455</td>\n",
       "      <td>-0.028215</td>\n",
       "    </tr>\n",
       "    <tr>\n",
       "      <th>18</th>\n",
       "      <td>-1.050521</td>\n",
       "      <td>0.064705</td>\n",
       "      <td>1.0</td>\n",
       "      <td>-0.983317</td>\n",
       "      <td>0.067205</td>\n",
       "    </tr>\n",
       "    <tr>\n",
       "      <th>19</th>\n",
       "      <td>0.297586</td>\n",
       "      <td>-0.005374</td>\n",
       "      <td>2.0</td>\n",
       "      <td>0.291644</td>\n",
       "      <td>-0.005942</td>\n",
       "    </tr>\n",
       "    <tr>\n",
       "      <th>20</th>\n",
       "      <td>0.286128</td>\n",
       "      <td>-0.020386</td>\n",
       "      <td>2.0</td>\n",
       "      <td>0.265107</td>\n",
       "      <td>-0.021020</td>\n",
       "    </tr>\n",
       "    <tr>\n",
       "      <th>21</th>\n",
       "      <td>-0.130951</td>\n",
       "      <td>0.025171</td>\n",
       "      <td>1.0</td>\n",
       "      <td>-0.108090</td>\n",
       "      <td>0.022861</td>\n",
       "    </tr>\n",
       "    <tr>\n",
       "      <th>22</th>\n",
       "      <td>-0.372118</td>\n",
       "      <td>0.038171</td>\n",
       "      <td>2.0</td>\n",
       "      <td>-0.334044</td>\n",
       "      <td>0.038074</td>\n",
       "    </tr>\n",
       "    <tr>\n",
       "      <th>23</th>\n",
       "      <td>-1.139320</td>\n",
       "      <td>-0.029360</td>\n",
       "      <td>1.0</td>\n",
       "      <td>-1.166275</td>\n",
       "      <td>-0.026955</td>\n",
       "    </tr>\n",
       "    <tr>\n",
       "      <th>24</th>\n",
       "      <td>-0.226355</td>\n",
       "      <td>-0.039148</td>\n",
       "      <td>0.0</td>\n",
       "      <td>-0.268448</td>\n",
       "      <td>-0.042093</td>\n",
       "    </tr>\n",
       "    <tr>\n",
       "      <th>25</th>\n",
       "      <td>-0.191152</td>\n",
       "      <td>-0.003703</td>\n",
       "      <td>0.0</td>\n",
       "      <td>-0.197955</td>\n",
       "      <td>-0.006803</td>\n",
       "    </tr>\n",
       "    <tr>\n",
       "      <th>26</th>\n",
       "      <td>-0.931009</td>\n",
       "      <td>-0.038614</td>\n",
       "      <td>0.0</td>\n",
       "      <td>-0.968273</td>\n",
       "      <td>-0.037264</td>\n",
       "    </tr>\n",
       "    <tr>\n",
       "      <th>27</th>\n",
       "      <td>-0.127789</td>\n",
       "      <td>0.006491</td>\n",
       "      <td>1.0</td>\n",
       "      <td>-0.123616</td>\n",
       "      <td>0.004173</td>\n",
       "    </tr>\n",
       "    <tr>\n",
       "      <th>28</th>\n",
       "      <td>-0.888574</td>\n",
       "      <td>-0.056787</td>\n",
       "      <td>0.0</td>\n",
       "      <td>-0.944139</td>\n",
       "      <td>-0.055565</td>\n",
       "    </tr>\n",
       "    <tr>\n",
       "      <th>29</th>\n",
       "      <td>-0.213532</td>\n",
       "      <td>0.068326</td>\n",
       "      <td>0.0</td>\n",
       "      <td>-0.148211</td>\n",
       "      <td>0.065321</td>\n",
       "    </tr>\n",
       "  </tbody>\n",
       "</table>\n",
       "</div>"
      ],
      "text/plain": [
       "      state1    state2  action  next_state1  next_state2\n",
       "0   0.457426  0.060419     1.0     0.500000     0.059926\n",
       "1   0.393594  0.029372     1.0     0.422015     0.028422\n",
       "2  -0.784815  0.051213     1.0    -0.731837     0.052978\n",
       "3  -1.050700  0.041745     1.0    -1.006455     0.044245\n",
       "4  -0.007822  0.065768     1.0     0.055446     0.063269\n",
       "5   0.163230 -0.065950     0.0     0.094074    -0.069156\n",
       "6  -1.141144  0.017598     0.0    -1.122145     0.018999\n",
       "7  -0.213980  0.054199     2.0    -0.160784     0.053197\n",
       "8   0.077077 -0.011843     2.0     0.063801    -0.013276\n",
       "9   0.325468 -0.032252     0.0     0.290816    -0.034652\n",
       "10 -0.844292  0.045677     0.0    -0.797563     0.046728\n",
       "11 -1.133525  0.013025     2.0    -1.117083     0.016441\n",
       "12 -0.223816  0.012175     0.0    -0.214598     0.009218\n",
       "13  0.165014 -0.007018     0.0     0.154796    -0.010218\n",
       "14 -0.246240 -0.018234     2.0    -0.265323    -0.019083\n",
       "15  0.364242  0.012248     2.0     0.376340     0.012098\n",
       "16 -0.074244  0.009841     1.0    -0.066842     0.007402\n",
       "17 -0.847240 -0.030278     1.0    -0.875455    -0.028215\n",
       "18 -1.050521  0.064705     1.0    -0.983317     0.067205\n",
       "19  0.297586 -0.005374     2.0     0.291644    -0.005942\n",
       "20  0.286128 -0.020386     2.0     0.265107    -0.021020\n",
       "21 -0.130951  0.025171     1.0    -0.108090     0.022861\n",
       "22 -0.372118  0.038171     2.0    -0.334044     0.038074\n",
       "23 -1.139320 -0.029360     1.0    -1.166275    -0.026955\n",
       "24 -0.226355 -0.039148     0.0    -0.268448    -0.042093\n",
       "25 -0.191152 -0.003703     0.0    -0.197955    -0.006803\n",
       "26 -0.931009 -0.038614     0.0    -0.968273    -0.037264\n",
       "27 -0.127789  0.006491     1.0    -0.123616     0.004173\n",
       "28 -0.888574 -0.056787     0.0    -0.944139    -0.055565\n",
       "29 -0.213532  0.068326     0.0    -0.148211     0.065321"
      ]
     },
     "execution_count": 7,
     "metadata": {},
     "output_type": "execute_result"
    }
   ],
   "source": [
    "dataframe.head(30)"
   ]
  },
  {
   "cell_type": "code",
   "execution_count": 8,
   "metadata": {
    "collapsed": false
   },
   "outputs": [],
   "source": [
    "N = dataframe.shape[0]"
   ]
  },
  {
   "cell_type": "code",
   "execution_count": 9,
   "metadata": {
    "collapsed": false
   },
   "outputs": [],
   "source": [
    "states = np.vstack((dataframe.state1.values, dataframe.state2.values)).transpose()"
   ]
  },
  {
   "cell_type": "code",
   "execution_count": 10,
   "metadata": {
    "collapsed": true
   },
   "outputs": [],
   "source": [
    "actions = dataframe.action.values.astype(int)"
   ]
  },
  {
   "cell_type": "code",
   "execution_count": 11,
   "metadata": {
    "collapsed": false
   },
   "outputs": [],
   "source": [
    "actions = actions.reshape(N,1)"
   ]
  },
  {
   "cell_type": "code",
   "execution_count": 12,
   "metadata": {
    "collapsed": true
   },
   "outputs": [],
   "source": [
    "next_states = np.vstack((dataframe.next_state1.values, dataframe.next_state2.values)).transpose()"
   ]
  },
  {
   "cell_type": "code",
   "execution_count": null,
   "metadata": {
    "collapsed": false
   },
   "outputs": [
    {
     "name": "stderr",
     "output_type": "stream",
     "text": [
      "plot_tools.py:32: VisibleDeprecationWarning: converting an array with ndim > 0 to an index will result in an error in the future\n",
      "  ax.plot([states[i,0], next_states[i,0]],[states[i,1], next_states[i,1]], color=clr[actions[i]], linewidth='5')\n",
      "plot_tools.py:34: VisibleDeprecationWarning: converting an array with ndim > 0 to an index will result in an error in the future\n",
      "  ax.plot([states[i,0], next_states[i,0]],[states[i,1], next_states[i,1]], color=clr[actions[i]])\n"
     ]
    }
   ],
   "source": [
    "fig = PT.plot_transitions(states, actions, next_states, \"../images/dataset\")"
   ]
  },
  {
   "cell_type": "code",
   "execution_count": null,
   "metadata": {
    "collapsed": false
   },
   "outputs": [],
   "source": [
    "imgplot = plt.imshow(mpimg.imread('../images/dataset.png'))"
   ]
  },
  {
   "cell_type": "code",
   "execution_count": 16,
   "metadata": {
    "collapsed": false
   },
   "outputs": [],
   "source": [
    "imgplot2 = plt.imshow(mpimg.imread('../images/image.png'))"
   ]
  },
  {
   "cell_type": "code",
   "execution_count": null,
   "metadata": {
    "collapsed": true
   },
   "outputs": [],
   "source": []
  }
 ],
 "metadata": {
  "kernelspec": {
   "display_name": "Python 2",
   "language": "python",
   "name": "python2"
  },
  "language_info": {
   "codemirror_mode": {
    "name": "ipython",
    "version": 2
   },
   "file_extension": ".py",
   "mimetype": "text/x-python",
   "name": "python",
   "nbconvert_exporter": "python",
   "pygments_lexer": "ipython2",
   "version": "2.7.6"
  }
 },
 "nbformat": 4,
 "nbformat_minor": 0
}
