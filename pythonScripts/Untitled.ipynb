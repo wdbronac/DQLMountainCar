{
 "cells": [
  {
   "cell_type": "code",
   "execution_count": 291,
   "metadata": {
    "collapsed": false
   },
   "outputs": [
    {
     "name": "stdout",
     "output_type": "stream",
     "text": [
      "\u001b[H\u001b[2J"
     ]
    }
   ],
   "source": [
    "clear all"
   ]
  },
  {
   "cell_type": "code",
   "execution_count": 292,
   "metadata": {
    "collapsed": true
   },
   "outputs": [],
   "source": [
    "import pandas as pd\n",
    "import numpy as np\n",
    "import pylab as plt"
   ]
  },
  {
   "cell_type": "code",
   "execution_count": 304,
   "metadata": {
    "collapsed": true
   },
   "outputs": [],
   "source": [
    "import os\n",
    "import subprocess"
   ]
  },
  {
   "cell_type": "code",
   "execution_count": 293,
   "metadata": {
    "collapsed": true
   },
   "outputs": [],
   "source": [
    "import matplotlib.image as mpimg"
   ]
  },
  {
   "cell_type": "code",
   "execution_count": 294,
   "metadata": {
    "collapsed": false
   },
   "outputs": [],
   "source": [
    "import plot_tools as PT"
   ]
  },
  {
   "cell_type": "code",
   "execution_count": 295,
   "metadata": {
    "collapsed": true
   },
   "outputs": [],
   "source": [
    "dataframe = pd.read_csv('../images/dataset.csv')"
   ]
  },
  {
   "cell_type": "code",
   "execution_count": 296,
   "metadata": {
    "collapsed": false
   },
   "outputs": [
    {
     "data": {
      "text/html": [
       "<div>\n",
       "<table border=\"1\" class=\"dataframe\">\n",
       "  <thead>\n",
       "    <tr style=\"text-align: right;\">\n",
       "      <th></th>\n",
       "      <th>state1</th>\n",
       "      <th>state2</th>\n",
       "      <th>action</th>\n",
       "      <th>next_state1</th>\n",
       "      <th>next_state2</th>\n",
       "    </tr>\n",
       "  </thead>\n",
       "  <tbody>\n",
       "    <tr>\n",
       "      <th>0</th>\n",
       "      <td>0.470990</td>\n",
       "      <td>-0.018007</td>\n",
       "      <td>1.0</td>\n",
       "      <td>0.452590</td>\n",
       "      <td>-0.018400</td>\n",
       "    </tr>\n",
       "    <tr>\n",
       "      <th>1</th>\n",
       "      <td>-0.764541</td>\n",
       "      <td>0.055736</td>\n",
       "      <td>2.0</td>\n",
       "      <td>-0.706151</td>\n",
       "      <td>0.058390</td>\n",
       "    </tr>\n",
       "    <tr>\n",
       "      <th>2</th>\n",
       "      <td>-0.774884</td>\n",
       "      <td>0.001919</td>\n",
       "      <td>0.0</td>\n",
       "      <td>-0.772254</td>\n",
       "      <td>0.002630</td>\n",
       "    </tr>\n",
       "    <tr>\n",
       "      <th>3</th>\n",
       "      <td>-0.916127</td>\n",
       "      <td>-0.048466</td>\n",
       "      <td>2.0</td>\n",
       "      <td>-0.961284</td>\n",
       "      <td>-0.045157</td>\n",
       "    </tr>\n",
       "    <tr>\n",
       "      <th>4</th>\n",
       "      <td>0.438749</td>\n",
       "      <td>-0.052677</td>\n",
       "      <td>2.0</td>\n",
       "      <td>0.386443</td>\n",
       "      <td>-0.052306</td>\n",
       "    </tr>\n",
       "    <tr>\n",
       "      <th>5</th>\n",
       "      <td>0.392996</td>\n",
       "      <td>-0.043911</td>\n",
       "      <td>2.0</td>\n",
       "      <td>0.349130</td>\n",
       "      <td>-0.043866</td>\n",
       "    </tr>\n",
       "    <tr>\n",
       "      <th>6</th>\n",
       "      <td>-0.206704</td>\n",
       "      <td>0.010418</td>\n",
       "      <td>2.0</td>\n",
       "      <td>-0.197321</td>\n",
       "      <td>0.009383</td>\n",
       "    </tr>\n",
       "    <tr>\n",
       "      <th>7</th>\n",
       "      <td>0.429066</td>\n",
       "      <td>0.046204</td>\n",
       "      <td>0.0</td>\n",
       "      <td>0.473570</td>\n",
       "      <td>0.044504</td>\n",
       "    </tr>\n",
       "    <tr>\n",
       "      <th>8</th>\n",
       "      <td>-0.353029</td>\n",
       "      <td>-0.017624</td>\n",
       "      <td>2.0</td>\n",
       "      <td>-0.370877</td>\n",
       "      <td>-0.017848</td>\n",
       "    </tr>\n",
       "    <tr>\n",
       "      <th>9</th>\n",
       "      <td>0.465665</td>\n",
       "      <td>0.045489</td>\n",
       "      <td>1.0</td>\n",
       "      <td>0.500000</td>\n",
       "      <td>0.045057</td>\n",
       "    </tr>\n",
       "    <tr>\n",
       "      <th>10</th>\n",
       "      <td>-0.044961</td>\n",
       "      <td>0.022390</td>\n",
       "      <td>2.0</td>\n",
       "      <td>-0.024048</td>\n",
       "      <td>0.020913</td>\n",
       "    </tr>\n",
       "    <tr>\n",
       "      <th>11</th>\n",
       "      <td>-0.744884</td>\n",
       "      <td>-0.040914</td>\n",
       "      <td>1.0</td>\n",
       "      <td>-0.784258</td>\n",
       "      <td>-0.039374</td>\n",
       "    </tr>\n",
       "    <tr>\n",
       "      <th>12</th>\n",
       "      <td>0.401237</td>\n",
       "      <td>0.068299</td>\n",
       "      <td>0.0</td>\n",
       "      <td>0.467638</td>\n",
       "      <td>0.066402</td>\n",
       "    </tr>\n",
       "    <tr>\n",
       "      <th>13</th>\n",
       "      <td>-0.788540</td>\n",
       "      <td>0.013803</td>\n",
       "      <td>1.0</td>\n",
       "      <td>-0.772953</td>\n",
       "      <td>0.015587</td>\n",
       "    </tr>\n",
       "    <tr>\n",
       "      <th>14</th>\n",
       "      <td>0.340249</td>\n",
       "      <td>-0.010118</td>\n",
       "      <td>1.0</td>\n",
       "      <td>0.328824</td>\n",
       "      <td>-0.011425</td>\n",
       "    </tr>\n",
       "    <tr>\n",
       "      <th>15</th>\n",
       "      <td>-0.838014</td>\n",
       "      <td>0.001418</td>\n",
       "      <td>2.0</td>\n",
       "      <td>-0.833573</td>\n",
       "      <td>0.004441</td>\n",
       "    </tr>\n",
       "    <tr>\n",
       "      <th>16</th>\n",
       "      <td>0.268272</td>\n",
       "      <td>-0.059468</td>\n",
       "      <td>0.0</td>\n",
       "      <td>0.206071</td>\n",
       "      <td>-0.062201</td>\n",
       "    </tr>\n",
       "    <tr>\n",
       "      <th>17</th>\n",
       "      <td>0.170748</td>\n",
       "      <td>0.066235</td>\n",
       "      <td>2.0</td>\n",
       "      <td>0.235804</td>\n",
       "      <td>0.065055</td>\n",
       "    </tr>\n",
       "    <tr>\n",
       "      <th>18</th>\n",
       "      <td>-0.867729</td>\n",
       "      <td>-0.030681</td>\n",
       "      <td>0.0</td>\n",
       "      <td>-0.897264</td>\n",
       "      <td>-0.029535</td>\n",
       "    </tr>\n",
       "    <tr>\n",
       "      <th>19</th>\n",
       "      <td>-0.438976</td>\n",
       "      <td>-0.003829</td>\n",
       "      <td>0.0</td>\n",
       "      <td>-0.444432</td>\n",
       "      <td>-0.005457</td>\n",
       "    </tr>\n",
       "    <tr>\n",
       "      <th>20</th>\n",
       "      <td>0.126107</td>\n",
       "      <td>-0.021926</td>\n",
       "      <td>1.0</td>\n",
       "      <td>0.101858</td>\n",
       "      <td>-0.024249</td>\n",
       "    </tr>\n",
       "    <tr>\n",
       "      <th>21</th>\n",
       "      <td>0.489064</td>\n",
       "      <td>0.033969</td>\n",
       "      <td>0.0</td>\n",
       "      <td>0.500000</td>\n",
       "      <td>0.032710</td>\n",
       "    </tr>\n",
       "    <tr>\n",
       "      <th>22</th>\n",
       "      <td>-1.002983</td>\n",
       "      <td>0.059838</td>\n",
       "      <td>2.0</td>\n",
       "      <td>-0.939667</td>\n",
       "      <td>0.063316</td>\n",
       "    </tr>\n",
       "    <tr>\n",
       "      <th>23</th>\n",
       "      <td>0.152000</td>\n",
       "      <td>0.033773</td>\n",
       "      <td>1.0</td>\n",
       "      <td>0.183528</td>\n",
       "      <td>0.031528</td>\n",
       "    </tr>\n",
       "    <tr>\n",
       "      <th>24</th>\n",
       "      <td>-0.015978</td>\n",
       "      <td>0.002632</td>\n",
       "      <td>2.0</td>\n",
       "      <td>-0.014843</td>\n",
       "      <td>0.001135</td>\n",
       "    </tr>\n",
       "    <tr>\n",
       "      <th>25</th>\n",
       "      <td>-0.967251</td>\n",
       "      <td>-0.018212</td>\n",
       "      <td>2.0</td>\n",
       "      <td>-0.982035</td>\n",
       "      <td>-0.014784</td>\n",
       "    </tr>\n",
       "    <tr>\n",
       "      <th>26</th>\n",
       "      <td>-0.648850</td>\n",
       "      <td>0.044711</td>\n",
       "      <td>0.0</td>\n",
       "      <td>-0.604222</td>\n",
       "      <td>0.044628</td>\n",
       "    </tr>\n",
       "    <tr>\n",
       "      <th>27</th>\n",
       "      <td>-1.103303</td>\n",
       "      <td>0.011897</td>\n",
       "      <td>1.0</td>\n",
       "      <td>-1.088942</td>\n",
       "      <td>0.014362</td>\n",
       "    </tr>\n",
       "    <tr>\n",
       "      <th>28</th>\n",
       "      <td>-0.310924</td>\n",
       "      <td>0.026536</td>\n",
       "      <td>1.0</td>\n",
       "      <td>-0.285877</td>\n",
       "      <td>0.025047</td>\n",
       "    </tr>\n",
       "    <tr>\n",
       "      <th>29</th>\n",
       "      <td>-0.169492</td>\n",
       "      <td>-0.064774</td>\n",
       "      <td>2.0</td>\n",
       "      <td>-0.235450</td>\n",
       "      <td>-0.065958</td>\n",
       "    </tr>\n",
       "  </tbody>\n",
       "</table>\n",
       "</div>"
      ],
      "text/plain": [
       "      state1    state2  action  next_state1  next_state2\n",
       "0   0.470990 -0.018007     1.0     0.452590    -0.018400\n",
       "1  -0.764541  0.055736     2.0    -0.706151     0.058390\n",
       "2  -0.774884  0.001919     0.0    -0.772254     0.002630\n",
       "3  -0.916127 -0.048466     2.0    -0.961284    -0.045157\n",
       "4   0.438749 -0.052677     2.0     0.386443    -0.052306\n",
       "5   0.392996 -0.043911     2.0     0.349130    -0.043866\n",
       "6  -0.206704  0.010418     2.0    -0.197321     0.009383\n",
       "7   0.429066  0.046204     0.0     0.473570     0.044504\n",
       "8  -0.353029 -0.017624     2.0    -0.370877    -0.017848\n",
       "9   0.465665  0.045489     1.0     0.500000     0.045057\n",
       "10 -0.044961  0.022390     2.0    -0.024048     0.020913\n",
       "11 -0.744884 -0.040914     1.0    -0.784258    -0.039374\n",
       "12  0.401237  0.068299     0.0     0.467638     0.066402\n",
       "13 -0.788540  0.013803     1.0    -0.772953     0.015587\n",
       "14  0.340249 -0.010118     1.0     0.328824    -0.011425\n",
       "15 -0.838014  0.001418     2.0    -0.833573     0.004441\n",
       "16  0.268272 -0.059468     0.0     0.206071    -0.062201\n",
       "17  0.170748  0.066235     2.0     0.235804     0.065055\n",
       "18 -0.867729 -0.030681     0.0    -0.897264    -0.029535\n",
       "19 -0.438976 -0.003829     0.0    -0.444432    -0.005457\n",
       "20  0.126107 -0.021926     1.0     0.101858    -0.024249\n",
       "21  0.489064  0.033969     0.0     0.500000     0.032710\n",
       "22 -1.002983  0.059838     2.0    -0.939667     0.063316\n",
       "23  0.152000  0.033773     1.0     0.183528     0.031528\n",
       "24 -0.015978  0.002632     2.0    -0.014843     0.001135\n",
       "25 -0.967251 -0.018212     2.0    -0.982035    -0.014784\n",
       "26 -0.648850  0.044711     0.0    -0.604222     0.044628\n",
       "27 -1.103303  0.011897     1.0    -1.088942     0.014362\n",
       "28 -0.310924  0.026536     1.0    -0.285877     0.025047\n",
       "29 -0.169492 -0.064774     2.0    -0.235450    -0.065958"
      ]
     },
     "execution_count": 296,
     "metadata": {},
     "output_type": "execute_result"
    }
   ],
   "source": [
    "dataframe.head(30)"
   ]
  },
  {
   "cell_type": "code",
   "execution_count": 297,
   "metadata": {
    "collapsed": false
   },
   "outputs": [],
   "source": [
    "N = dataframe.shape[0]"
   ]
  },
  {
   "cell_type": "code",
   "execution_count": 298,
   "metadata": {
    "collapsed": false
   },
   "outputs": [],
   "source": [
    "states = np.vstack((dataframe.state1.values, dataframe.state2.values)).transpose()"
   ]
  },
  {
   "cell_type": "code",
   "execution_count": 299,
   "metadata": {
    "collapsed": true
   },
   "outputs": [],
   "source": [
    "actions = dataframe.action.values.astype(int)"
   ]
  },
  {
   "cell_type": "code",
   "execution_count": 300,
   "metadata": {
    "collapsed": false
   },
   "outputs": [],
   "source": [
    "actions = actions.reshape(N,1)"
   ]
  },
  {
   "cell_type": "code",
   "execution_count": 301,
   "metadata": {
    "collapsed": true
   },
   "outputs": [],
   "source": [
    "next_states = np.vstack((dataframe.next_state1.values, dataframe.next_state2.values)).transpose()"
   ]
  },
  {
   "cell_type": "code",
   "execution_count": 302,
   "metadata": {
    "collapsed": false
   },
   "outputs": [],
   "source": [
    "fig = PT.plot_transitions(states, actions, next_states, \"../images/dataset\")"
   ]
  },
  {
   "cell_type": "code",
   "execution_count": 303,
   "metadata": {
    "collapsed": false
   },
   "outputs": [
    {
     "data": {
      "image/png": "[encoded data removed]",
      "text/plain": [
       "<matplotlib.figure.Figure at 0x7fc2fc70c350>"
      ]
     },
     "metadata": {},
     "output_type": "display_data"
    }
   ],
   "source": [
    "imgplot = plt.imshow(mpimg.imread('../images/dataset.png'))"
   ]
  },
  {
   "cell_type": "code",
   "execution_count": 207,
   "metadata": {
    "collapsed": false
   },
   "outputs": [
    {
     "data": {
      "image/png": "[encoded data removed]",
      "text/plain": [
       "<matplotlib.figure.Figure at 0x7fc2fd29bb10>"
      ]
     },
     "metadata": {},
     "output_type": "display_data"
    }
   ],
   "source": [
    "imgplot2 = plt.imshow(mpimg.imread('../images/image.png'))"
   ]
  },
  {
   "cell_type": "code",
   "execution_count": null,
   "metadata": {
    "collapsed": true
   },
   "outputs": [],
   "source": []
  }
 ],
 "metadata": {
  "kernelspec": {
   "display_name": "Python 2",
   "language": "python",
   "name": "python2"
  },
  "language_info": {
   "codemirror_mode": {
    "name": "ipython",
    "version": 2
   },
   "file_extension": ".py",
   "mimetype": "text/x-python",
   "name": "python",
   "nbconvert_exporter": "python",
   "pygments_lexer": "ipython2",
   "version": "2.7.6"
  }
 },
 "nbformat": 4,
 "nbformat_minor": 0
}
