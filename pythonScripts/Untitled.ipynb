{
 "cells": [
  {
   "cell_type": "code",
   "execution_count": 1,
   "metadata": {
    "collapsed": false
   },
   "outputs": [
    {
     "name": "stdout",
     "output_type": "stream",
     "text": [
      "\u001b[H\u001b[2J"
     ]
    }
   ],
   "source": [
    "clear all"
   ]
  },
  {
   "cell_type": "code",
   "execution_count": 2,
   "metadata": {
    "collapsed": true
   },
   "outputs": [],
   "source": [
    "import pandas as pd\n",
    "import numpy as np\n",
    "import pylab as plt"
   ]
  },
  {
   "cell_type": "code",
   "execution_count": 3,
   "metadata": {
    "collapsed": true
   },
   "outputs": [],
   "source": [
    "import os\n",
    "import subprocess"
   ]
  },
  {
   "cell_type": "code",
   "execution_count": 4,
   "metadata": {
    "collapsed": true
   },
   "outputs": [],
   "source": [
    "import matplotlib.image as mpimg"
   ]
  },
  {
   "cell_type": "code",
   "execution_count": 5,
   "metadata": {
    "collapsed": false
   },
   "outputs": [],
   "source": [
    "import plot_tools as PT"
   ]
  },
  {
   "cell_type": "code",
   "execution_count": 6,
   "metadata": {
    "collapsed": true
   },
   "outputs": [],
   "source": [
    "dataframe = pd.read_csv('../images/dataset.csv')"
   ]
  },
  {
   "cell_type": "code",
   "execution_count": 7,
   "metadata": {
    "collapsed": false
   },
   "outputs": [
    {
     "data": {
      "text/html": [
       "<div>\n",
       "<table border=\"1\" class=\"dataframe\">\n",
       "  <thead>\n",
       "    <tr style=\"text-align: right;\">\n",
       "      <th></th>\n",
       "      <th>state1</th>\n",
       "      <th>state2</th>\n",
       "      <th>action</th>\n",
       "      <th>next_state1</th>\n",
       "      <th>next_state2</th>\n",
       "    </tr>\n",
       "  </thead>\n",
       "  <tbody>\n",
       "    <tr>\n",
       "      <th>0</th>\n",
       "      <td>0.457426</td>\n",
       "      <td>0.008629</td>\n",
       "      <td>2.0</td>\n",
       "      <td>0.466561</td>\n",
       "      <td>0.009136</td>\n",
       "    </tr>\n",
       "    <tr>\n",
       "      <th>1</th>\n",
       "      <td>0.393594</td>\n",
       "      <td>0.025276</td>\n",
       "      <td>1.0</td>\n",
       "      <td>0.417920</td>\n",
       "      <td>0.024326</td>\n",
       "    </tr>\n",
       "    <tr>\n",
       "      <th>2</th>\n",
       "      <td>-0.784815</td>\n",
       "      <td>-0.042156</td>\n",
       "      <td>1.0</td>\n",
       "      <td>-0.825207</td>\n",
       "      <td>-0.040392</td>\n",
       "    </tr>\n",
       "    <tr>\n",
       "      <th>3</th>\n",
       "      <td>-1.050700</td>\n",
       "      <td>0.051084</td>\n",
       "      <td>2.0</td>\n",
       "      <td>-0.996116</td>\n",
       "      <td>0.054584</td>\n",
       "    </tr>\n",
       "    <tr>\n",
       "      <th>4</th>\n",
       "      <td>-0.007822</td>\n",
       "      <td>0.002723</td>\n",
       "      <td>1.0</td>\n",
       "      <td>-0.007599</td>\n",
       "      <td>0.000223</td>\n",
       "    </tr>\n",
       "    <tr>\n",
       "      <th>5</th>\n",
       "      <td>0.163230</td>\n",
       "      <td>0.054974</td>\n",
       "      <td>2.0</td>\n",
       "      <td>0.216999</td>\n",
       "      <td>0.053768</td>\n",
       "    </tr>\n",
       "    <tr>\n",
       "      <th>6</th>\n",
       "      <td>-1.141144</td>\n",
       "      <td>-0.017222</td>\n",
       "      <td>1.0</td>\n",
       "      <td>-1.155964</td>\n",
       "      <td>-0.014820</td>\n",
       "    </tr>\n",
       "    <tr>\n",
       "      <th>7</th>\n",
       "      <td>-0.213980</td>\n",
       "      <td>-0.065283</td>\n",
       "      <td>1.0</td>\n",
       "      <td>-0.281266</td>\n",
       "      <td>-0.067285</td>\n",
       "    </tr>\n",
       "    <tr>\n",
       "      <th>8</th>\n",
       "      <td>0.077077</td>\n",
       "      <td>-0.003286</td>\n",
       "      <td>2.0</td>\n",
       "      <td>0.072357</td>\n",
       "      <td>-0.004719</td>\n",
       "    </tr>\n",
       "    <tr>\n",
       "      <th>9</th>\n",
       "      <td>0.325468</td>\n",
       "      <td>0.056184</td>\n",
       "      <td>2.0</td>\n",
       "      <td>0.381252</td>\n",
       "      <td>0.055784</td>\n",
       "    </tr>\n",
       "    <tr>\n",
       "      <th>10</th>\n",
       "      <td>-0.844292</td>\n",
       "      <td>0.038349</td>\n",
       "      <td>0.0</td>\n",
       "      <td>-0.804892</td>\n",
       "      <td>0.039400</td>\n",
       "    </tr>\n",
       "    <tr>\n",
       "      <th>11</th>\n",
       "      <td>-1.133525</td>\n",
       "      <td>0.060860</td>\n",
       "      <td>1.0</td>\n",
       "      <td>-1.070248</td>\n",
       "      <td>0.063277</td>\n",
       "    </tr>\n",
       "    <tr>\n",
       "      <th>12</th>\n",
       "      <td>-0.223816</td>\n",
       "      <td>-0.028564</td>\n",
       "      <td>1.0</td>\n",
       "      <td>-0.254337</td>\n",
       "      <td>-0.030521</td>\n",
       "    </tr>\n",
       "    <tr>\n",
       "      <th>13</th>\n",
       "      <td>0.165014</td>\n",
       "      <td>-0.042768</td>\n",
       "      <td>0.0</td>\n",
       "      <td>0.119046</td>\n",
       "      <td>-0.045968</td>\n",
       "    </tr>\n",
       "    <tr>\n",
       "      <th>14</th>\n",
       "      <td>-0.246240</td>\n",
       "      <td>0.065190</td>\n",
       "      <td>2.0</td>\n",
       "      <td>-0.181898</td>\n",
       "      <td>0.064342</td>\n",
       "    </tr>\n",
       "    <tr>\n",
       "      <th>15</th>\n",
       "      <td>0.364242</td>\n",
       "      <td>-0.006070</td>\n",
       "      <td>1.0</td>\n",
       "      <td>0.357022</td>\n",
       "      <td>-0.007220</td>\n",
       "    </tr>\n",
       "    <tr>\n",
       "      <th>16</th>\n",
       "      <td>-0.074244</td>\n",
       "      <td>-0.059956</td>\n",
       "      <td>0.0</td>\n",
       "      <td>-0.137638</td>\n",
       "      <td>-0.063394</td>\n",
       "    </tr>\n",
       "    <tr>\n",
       "      <th>17</th>\n",
       "      <td>-0.847240</td>\n",
       "      <td>-0.040687</td>\n",
       "      <td>1.0</td>\n",
       "      <td>-0.885863</td>\n",
       "      <td>-0.038623</td>\n",
       "    </tr>\n",
       "    <tr>\n",
       "      <th>18</th>\n",
       "      <td>-1.050521</td>\n",
       "      <td>-0.058253</td>\n",
       "      <td>1.0</td>\n",
       "      <td>-1.106274</td>\n",
       "      <td>-0.055753</td>\n",
       "    </tr>\n",
       "    <tr>\n",
       "      <th>19</th>\n",
       "      <td>0.297586</td>\n",
       "      <td>-0.063802</td>\n",
       "      <td>2.0</td>\n",
       "      <td>0.233215</td>\n",
       "      <td>-0.064370</td>\n",
       "    </tr>\n",
       "    <tr>\n",
       "      <th>20</th>\n",
       "      <td>0.286128</td>\n",
       "      <td>-0.047644</td>\n",
       "      <td>1.0</td>\n",
       "      <td>0.236849</td>\n",
       "      <td>-0.049278</td>\n",
       "    </tr>\n",
       "    <tr>\n",
       "      <th>21</th>\n",
       "      <td>-0.130951</td>\n",
       "      <td>-0.021285</td>\n",
       "      <td>0.0</td>\n",
       "      <td>-0.155546</td>\n",
       "      <td>-0.024595</td>\n",
       "    </tr>\n",
       "    <tr>\n",
       "      <th>22</th>\n",
       "      <td>-0.372118</td>\n",
       "      <td>0.054197</td>\n",
       "      <td>0.0</td>\n",
       "      <td>-0.320019</td>\n",
       "      <td>0.052099</td>\n",
       "    </tr>\n",
       "    <tr>\n",
       "      <th>23</th>\n",
       "      <td>-1.139320</td>\n",
       "      <td>0.056499</td>\n",
       "      <td>0.0</td>\n",
       "      <td>-1.081416</td>\n",
       "      <td>0.057904</td>\n",
       "    </tr>\n",
       "    <tr>\n",
       "      <th>24</th>\n",
       "      <td>-0.226355</td>\n",
       "      <td>-0.062619</td>\n",
       "      <td>0.0</td>\n",
       "      <td>-0.291920</td>\n",
       "      <td>-0.065564</td>\n",
       "    </tr>\n",
       "    <tr>\n",
       "      <th>25</th>\n",
       "      <td>-0.191152</td>\n",
       "      <td>-0.003982</td>\n",
       "      <td>2.0</td>\n",
       "      <td>-0.196234</td>\n",
       "      <td>-0.005082</td>\n",
       "    </tr>\n",
       "    <tr>\n",
       "      <th>26</th>\n",
       "      <td>-0.931009</td>\n",
       "      <td>0.047811</td>\n",
       "      <td>0.0</td>\n",
       "      <td>-0.881848</td>\n",
       "      <td>0.049161</td>\n",
       "    </tr>\n",
       "    <tr>\n",
       "      <th>27</th>\n",
       "      <td>-0.127789</td>\n",
       "      <td>-0.061085</td>\n",
       "      <td>2.0</td>\n",
       "      <td>-0.190193</td>\n",
       "      <td>-0.062404</td>\n",
       "    </tr>\n",
       "    <tr>\n",
       "      <th>28</th>\n",
       "      <td>-0.888574</td>\n",
       "      <td>-0.011972</td>\n",
       "      <td>2.0</td>\n",
       "      <td>-0.897324</td>\n",
       "      <td>-0.008750</td>\n",
       "    </tr>\n",
       "    <tr>\n",
       "      <th>29</th>\n",
       "      <td>-0.213532</td>\n",
       "      <td>0.013195</td>\n",
       "      <td>0.0</td>\n",
       "      <td>-0.203342</td>\n",
       "      <td>0.010191</td>\n",
       "    </tr>\n",
       "  </tbody>\n",
       "</table>\n",
       "</div>"
      ],
      "text/plain": [
       "      state1    state2  action  next_state1  next_state2\n",
       "0   0.457426  0.008629     2.0     0.466561     0.009136\n",
       "1   0.393594  0.025276     1.0     0.417920     0.024326\n",
       "2  -0.784815 -0.042156     1.0    -0.825207    -0.040392\n",
       "3  -1.050700  0.051084     2.0    -0.996116     0.054584\n",
       "4  -0.007822  0.002723     1.0    -0.007599     0.000223\n",
       "5   0.163230  0.054974     2.0     0.216999     0.053768\n",
       "6  -1.141144 -0.017222     1.0    -1.155964    -0.014820\n",
       "7  -0.213980 -0.065283     1.0    -0.281266    -0.067285\n",
       "8   0.077077 -0.003286     2.0     0.072357    -0.004719\n",
       "9   0.325468  0.056184     2.0     0.381252     0.055784\n",
       "10 -0.844292  0.038349     0.0    -0.804892     0.039400\n",
       "11 -1.133525  0.060860     1.0    -1.070248     0.063277\n",
       "12 -0.223816 -0.028564     1.0    -0.254337    -0.030521\n",
       "13  0.165014 -0.042768     0.0     0.119046    -0.045968\n",
       "14 -0.246240  0.065190     2.0    -0.181898     0.064342\n",
       "15  0.364242 -0.006070     1.0     0.357022    -0.007220\n",
       "16 -0.074244 -0.059956     0.0    -0.137638    -0.063394\n",
       "17 -0.847240 -0.040687     1.0    -0.885863    -0.038623\n",
       "18 -1.050521 -0.058253     1.0    -1.106274    -0.055753\n",
       "19  0.297586 -0.063802     2.0     0.233215    -0.064370\n",
       "20  0.286128 -0.047644     1.0     0.236849    -0.049278\n",
       "21 -0.130951 -0.021285     0.0    -0.155546    -0.024595\n",
       "22 -0.372118  0.054197     0.0    -0.320019     0.052099\n",
       "23 -1.139320  0.056499     0.0    -1.081416     0.057904\n",
       "24 -0.226355 -0.062619     0.0    -0.291920    -0.065564\n",
       "25 -0.191152 -0.003982     2.0    -0.196234    -0.005082\n",
       "26 -0.931009  0.047811     0.0    -0.881848     0.049161\n",
       "27 -0.127789 -0.061085     2.0    -0.190193    -0.062404\n",
       "28 -0.888574 -0.011972     2.0    -0.897324    -0.008750\n",
       "29 -0.213532  0.013195     0.0    -0.203342     0.010191"
      ]
     },
     "execution_count": 7,
     "metadata": {},
     "output_type": "execute_result"
    }
   ],
   "source": [
    "dataframe.head(30)"
   ]
  },
  {
   "cell_type": "code",
   "execution_count": 8,
   "metadata": {
    "collapsed": false
   },
   "outputs": [],
   "source": [
    "N = dataframe.shape[0]"
   ]
  },
  {
   "cell_type": "code",
   "execution_count": 9,
   "metadata": {
    "collapsed": false
   },
   "outputs": [],
   "source": [
    "states = np.vstack((dataframe.state1.values, dataframe.state2.values)).transpose()"
   ]
  },
  {
   "cell_type": "code",
   "execution_count": 10,
   "metadata": {
    "collapsed": true
   },
   "outputs": [],
   "source": [
    "actions = dataframe.action.values.astype(int)"
   ]
  },
  {
   "cell_type": "code",
   "execution_count": 11,
   "metadata": {
    "collapsed": false
   },
   "outputs": [],
   "source": [
    "actions = actions.reshape(N,1)"
   ]
  },
  {
   "cell_type": "code",
   "execution_count": 12,
   "metadata": {
    "collapsed": true
   },
   "outputs": [],
   "source": [
    "next_states = np.vstack((dataframe.next_state1.values, dataframe.next_state2.values)).transpose()"
   ]
  },
  {
   "cell_type": "code",
   "execution_count": 13,
   "metadata": {
    "collapsed": false
   },
   "outputs": [
    {
     "name": "stderr",
     "output_type": "stream",
     "text": [
      "plot_tools.py:34: VisibleDeprecationWarning: converting an array with ndim > 0 to an index will result in an error in the future\n",
      "  ax.plot([states[i,0], next_states[i,0]],[states[i,1], next_states[i,1]], color=clr[actions[i]])\n",
      "plot_tools.py:32: VisibleDeprecationWarning: converting an array with ndim > 0 to an index will result in an error in the future\n",
      "  ax.plot([states[i,0], next_states[i,0]],[states[i,1], next_states[i,1]], color=clr[actions[i]], linewidth='5')\n"
     ]
    }
   ],
   "source": [
    "fig = PT.plot_transitions(states, actions, next_states, \"../images/dataset\")"
   ]
  },
  {
   "cell_type": "code",
   "execution_count": 15,
   "metadata": {
    "collapsed": false
   },
   "outputs": [],
   "source": [
    "imgplot = plt.imshow(mpimg.imread('../images/dataset.png'))"
   ]
  },
  {
   "cell_type": "code",
   "execution_count": 16,
   "metadata": {
    "collapsed": false
   },
   "outputs": [],
   "source": [
    "imgplot2 = plt.imshow(mpimg.imread('../images/image.png'))"
   ]
  },
  {
   "cell_type": "code",
   "execution_count": null,
   "metadata": {
    "collapsed": true
   },
   "outputs": [],
   "source": []
  }
 ],
 "metadata": {
  "kernelspec": {
   "display_name": "Python 2",
   "language": "python",
   "name": "python2"
  },
  "language_info": {
   "codemirror_mode": {
    "name": "ipython",
    "version": 2
   },
   "file_extension": ".py",
   "mimetype": "text/x-python",
   "name": "python",
   "nbconvert_exporter": "python",
   "pygments_lexer": "ipython2",
   "version": "2.7.6"
  }
 },
 "nbformat": 4,
 "nbformat_minor": 0
}
